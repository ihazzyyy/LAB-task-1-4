{
 "cells": [
  {
   "cell_type": "code",
   "execution_count": 6,
   "id": "fa55a4b2-b929-4f36-82ae-7dbe065c600a",
   "metadata": {},
   "outputs": [
    {
     "data": {
      "text/plain": [
       "True"
      ]
     },
     "execution_count": 6,
     "metadata": {},
     "output_type": "execute_result"
    }
   ],
   "source": [
    "import math\n",
    "\n",
    "def _prime(number):\n",
    "    count = 0 \n",
    "    for i in range(1,number+1):\n",
    "        if number % i == 0:\n",
    "            count += 1\n",
    "    for j in range(2,sqrt(number)):\n",
    "        if number % j == 0:\n",
    "            return True\n",
    "        else:\n",
    "            return False\n",
    "    if count == 2:\n",
    "        return True\n",
    "\n",
    "    else:\n",
    "        return False\n",
    "_prime(11)"
   ]
  },
  {
   "cell_type": "code",
   "execution_count": null,
   "id": "f77e3f1c-9eea-443e-b61f-af33432f70bb",
   "metadata": {},
   "outputs": [
    {
     "name": "stdin",
     "output_type": "stream",
     "text": [
      "enter a number to check:  11\n"
     ]
    },
    {
     "name": "stdout",
     "output_type": "stream",
     "text": [
      "True\n",
      "False\n"
     ]
    },
    {
     "name": "stdin",
     "output_type": "stream",
     "text": [
      "enter a number to check:  17\n"
     ]
    },
    {
     "name": "stdout",
     "output_type": "stream",
     "text": [
      "True\n",
      "False\n"
     ]
    },
    {
     "name": "stdin",
     "output_type": "stream",
     "text": [
      "enter a number to check:  21\n"
     ]
    },
    {
     "name": "stdout",
     "output_type": "stream",
     "text": [
      "False\n",
      "False\n"
     ]
    }
   ],
   "source": [
    "import math\n",
    "\n",
    "def _prime():\n",
    "    while True:\n",
    "        number = int(input(\"enter a number to check: \"))\n",
    "        \n",
    "        count = 0 \n",
    "        for i in range(1,number+1):\n",
    "            if number % i == 0:\n",
    "                count += 1\n",
    "        if count == 2:\n",
    "            print('True')\n",
    "    \n",
    "        else:\n",
    "            print('False')\n",
    "            \n",
    "        is_prime = True\n",
    "        for j in range(2,int(math.sqrt(number))+1):\n",
    "            if number % j == 0:\n",
    "                is_prime = False\n",
    "                break\n",
    "        if is_prime > 1:\n",
    "            print('True')\n",
    "        else:\n",
    "            print('False')\n",
    "_prime()"
   ]
  },
  {
   "cell_type": "code",
   "execution_count": null,
   "id": "9f6e96f7-8e95-47f4-9613-3016083e8abc",
   "metadata": {},
   "outputs": [],
   "source": []
  }
 ],
 "metadata": {
  "kernelspec": {
   "display_name": "Python 3 (ipykernel)",
   "language": "python",
   "name": "python3"
  },
  "language_info": {
   "codemirror_mode": {
    "name": "ipython",
    "version": 3
   },
   "file_extension": ".py",
   "mimetype": "text/x-python",
   "name": "python",
   "nbconvert_exporter": "python",
   "pygments_lexer": "ipython3",
   "version": "3.11.7"
  }
 },
 "nbformat": 4,
 "nbformat_minor": 5
}
