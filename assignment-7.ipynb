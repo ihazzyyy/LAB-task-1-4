{
 "cells": [
  {
   "cell_type": "markdown",
   "id": "136b367f-0000-4ea5-842d-2c003e7a155c",
   "metadata": {},
   "source": [
    "                                          TASK 1"
   ]
  },
  {
   "cell_type": "code",
   "execution_count": 1,
   "id": "02483cf2-fc4e-48cd-a3a2-a47b1a66a1c2",
   "metadata": {},
   "outputs": [
    {
     "name": "stdout",
     "output_type": "stream",
     "text": [
      "Vehicle Make: toyota, Model: land cruiser\n",
      "Number of Doors: 4\n",
      "\n",
      "\n",
      "Vehicle Make: suzuki, Model: mehran\n",
      "Number of Doors: 2\n",
      "Luxury Features: hawa mein ur sakti hai mood pe depend karta\n"
     ]
    }
   ],
   "source": [
    "class Vehicle:\n",
    "    def __init__(self, make, model):\n",
    "        self.make = make\n",
    "        self.model = model\n",
    "\n",
    "    def display_info(self):\n",
    "        print(f\"Vehicle Make: {self.make}, Model: {self.model}\")\n",
    "\n",
    "\n",
    "class Car(Vehicle):\n",
    "    def __init__(self, make, model, num_doors):\n",
    "        super().__init__(make, model)\n",
    "        self.num_doors = num_doors\n",
    "\n",
    "    def additional_info(self):\n",
    "        print(f\"Number of Doors: {self.num_doors}\")\n",
    "\n",
    "\n",
    "class LuxuryCar(Car):\n",
    "    def __init__(self, make, model, num_doors, features):\n",
    "        super().__init__(make, model, num_doors)\n",
    "        self.features = features\n",
    "\n",
    "    def additional_info(self):\n",
    "        print(f\"Number of Doors: {self.num_doors}\")\n",
    "        print(f\"Luxury Features: {self.features}\")\n",
    "\n",
    "car = Car('toyota', 'land cruiser', 4)\n",
    "car.display_info()\n",
    "car.additional_info()\n",
    "\n",
    "print(\"\\n\")\n",
    "\n",
    "luxury_car = LuxuryCar('suzuki', 'mehran', 2, 'hawa mein ur sakti hai mood pe depend karta')\n",
    "luxury_car.display_info()\n",
    "luxury_car.additional_info()\n"
   ]
  },
  {
   "cell_type": "code",
   "execution_count": null,
   "id": "f169b3b5-f72b-42e3-944a-384faecb82c8",
   "metadata": {},
   "outputs": [],
   "source": []
  }
 ],
 "metadata": {
  "kernelspec": {
   "display_name": "Python 3 (ipykernel)",
   "language": "python",
   "name": "python3"
  },
  "language_info": {
   "codemirror_mode": {
    "name": "ipython",
    "version": 3
   },
   "file_extension": ".py",
   "mimetype": "text/x-python",
   "name": "python",
   "nbconvert_exporter": "python",
   "pygments_lexer": "ipython3",
   "version": "3.11.7"
  }
 },
 "nbformat": 4,
 "nbformat_minor": 5
}
