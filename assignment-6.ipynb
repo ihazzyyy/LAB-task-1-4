{
 "cells": [
  {
   "cell_type": "code",
   "execution_count": 4,
   "id": "3d997a76-0b7c-4979-a52e-6f4b70a568cb",
   "metadata": {},
   "outputs": [
    {
     "name": "stdin",
     "output_type": "stream",
     "text": [
      "enter course code:  132\n",
      "enter course name:  cal\n",
      "undergraduate or graduate? (U/G):  u\n",
      "Enter the year level (1, 2, 3, 4):  2\n"
     ]
    },
    {
     "name": "stdout",
     "output_type": "stream",
     "text": [
      "course Code: 132, course Name: cal\n",
      "year Level: 2\n"
     ]
    }
   ],
   "source": [
    "# Parent Class for Course\n",
    "class Course:\n",
    "    def __init__(self, course_code, course_name):\n",
    "        self.course_code = course_code\n",
    "        self.course_name = course_name\n",
    "\n",
    "    def display_info(self):\n",
    "        print(f\"course Code: {self.course_code}, course Name: {self.course_name}\")\n",
    "\n",
    "\n",
    "\n",
    "class UndergraduateCourse(Course):\n",
    "    def __init__(self, course_code, course_name, year_level):\n",
    "        super().__init__(course_code, course_name)\n",
    "        self.year_level = year_level\n",
    "\n",
    "    def additional_info(self):\n",
    "        print(f\"year Level: {self.year_level}\")\n",
    "\n",
    "\n",
    "class GraduateCourse(Course):\n",
    "    def __init__(self, course_code, course_name, research_area):\n",
    "        super().__init__(course_code, course_name)\n",
    "        self.research_area = research_area\n",
    "\n",
    "    def additional_info(self):\n",
    "        print(f\"research area: {self.research_area}\")\n",
    "\n",
    "\n",
    "\n",
    "def register_course():\n",
    "    course_code = input(\"enter course code: \")\n",
    "    course_name = input(\"enter course name: \")\n",
    "    course_type = input(\"undergraduate or graduate? (U/G): \")\n",
    "    \n",
    "    if course_type == 'u' or course_type == 'U':\n",
    "        year_level = input(\"Enter the year level (1, 2, 3, 4): \")\n",
    "        course = UndergraduateCourse(course_code, course_name, year_level)\n",
    "        \n",
    "    elif course_type == 'g' or course_type == 'G':\n",
    "        research_area = input(\"Enter the research area: \")\n",
    "        course = GraduateCourse(course_code, course_name, research_area)\n",
    "        \n",
    "    else:\n",
    "        print(\"Invalid course type selected. Please enter 'U' for Undergraduate or 'G' for Graduate.\")\n",
    "        \n",
    "\n",
    "    \n",
    "    course.display_info()\n",
    "    course.additional_info()\n",
    "\n",
    "\n",
    "\n",
    "register_course()\n"
   ]
  },
  {
   "cell_type": "code",
   "execution_count": null,
   "id": "4f330f98-b9a8-44b8-8fd9-12e1762b099d",
   "metadata": {},
   "outputs": [],
   "source": []
  }
 ],
 "metadata": {
  "kernelspec": {
   "display_name": "Python 3 (ipykernel)",
   "language": "python",
   "name": "python3"
  },
  "language_info": {
   "codemirror_mode": {
    "name": "ipython",
    "version": 3
   },
   "file_extension": ".py",
   "mimetype": "text/x-python",
   "name": "python",
   "nbconvert_exporter": "python",
   "pygments_lexer": "ipython3",
   "version": "3.11.7"
  }
 },
 "nbformat": 4,
 "nbformat_minor": 5
}
