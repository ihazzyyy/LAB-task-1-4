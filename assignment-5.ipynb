{
 "cells": [
  {
   "cell_type": "code",
   "execution_count": 10,
   "id": "3040e5c0-563b-4266-8c12-50e3984286e9",
   "metadata": {},
   "outputs": [
    {
     "name": "stdout",
     "output_type": "stream",
     "text": [
      "title: assignment zyadti author: sir rasikh ali\n",
      "pages:8\n",
      "\n",
      "\n",
      "title: achanak dhachka author: sir rasikh ali\n",
      "Issue number: 4\n"
     ]
    }
   ],
   "source": [
    "class Item:\n",
    "    def __init__(self,title,author):\n",
    "        self.title = title \n",
    "        self.author = author \n",
    "\n",
    "    def display_info(self):\n",
    "        print(f'title: {self.title} author: {self.author}')\n",
    "\n",
    "class Book(Item):\n",
    "    def __init__(self, title, author, pages):\n",
    "        super().__init__(title, author)\n",
    "        self.pages = pages\n",
    "\n",
    "    def additional_info(self):\n",
    "        print(f'pages:{self.pages}')\n",
    "\n",
    "class Magazine(Item):\n",
    "    def __init__(self, title, author, issue_number):\n",
    "        super().__init__(title, author)\n",
    "        self.issue_number = issue_number\n",
    "\n",
    "    def additional_info(self):\n",
    "        print(f'Issue number: {self.issue_number}')\n",
    "\n",
    "book = Book('assignment zyadti', 'sir rasikh ali',8)\n",
    "book.display_info()\n",
    "book.additional_info()\n",
    "\n",
    "print('\\n')\n",
    "\n",
    "magazine = Magazine('achanak dhachka','sir rasikh ali',4)\n",
    "magazine.display_info()\n",
    "magazine.additional_info()\n",
    "        \n",
    "\n"
   ]
  },
  {
   "cell_type": "code",
   "execution_count": null,
   "id": "1a43ebfd-ab1e-4fe5-95c2-00b119afa5d1",
   "metadata": {},
   "outputs": [],
   "source": []
  }
 ],
 "metadata": {
  "kernelspec": {
   "display_name": "Python 3 (ipykernel)",
   "language": "python",
   "name": "python3"
  },
  "language_info": {
   "codemirror_mode": {
    "name": "ipython",
    "version": 3
   },
   "file_extension": ".py",
   "mimetype": "text/x-python",
   "name": "python",
   "nbconvert_exporter": "python",
   "pygments_lexer": "ipython3",
   "version": "3.11.7"
  }
 },
 "nbformat": 4,
 "nbformat_minor": 5
}
