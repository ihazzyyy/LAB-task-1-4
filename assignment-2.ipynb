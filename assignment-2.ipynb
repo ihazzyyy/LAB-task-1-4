{
 "cells": [
  {
   "cell_type": "raw",
   "id": "ef673d03-4afa-44c8-a316-025fd80d510a",
   "metadata": {},
   "source": [
    "1)a) A class in python is a blueprint for creating objects \n",
    "     it defines a set of attributes and methods that the created objects\n",
    "     will have. Whereas an object is an instance of a class created on the basis of \n",
    "     blueprint provided by the class"
   ]
  },
  {
   "cell_type": "code",
   "execution_count": 2,
   "id": "a3841659-81ec-4bc9-a8cf-08709bec85f0",
   "metadata": {},
   "outputs": [
    {
     "name": "stdout",
     "output_type": "stream",
     "text": [
      "reading rich dad poor dad written by idk\n",
      "reading think and grow rich written by i still dont know\n"
     ]
    }
   ],
   "source": [
    "# b)\n",
    "class Book: #this is a class \n",
    "    def __init__(self, title, author):\n",
    "        self.title = title\n",
    "        self.author = author \n",
    "\n",
    "    def read(self):\n",
    "        print(f'reading {self.title} written by {self.author}')\n",
    "\n",
    "book1 = Book('rich dad poor dad','idk') # this is the object 1 \n",
    "book2 = Book('think and grow rich','i still dont know') # this is the object 2\n",
    "\n",
    "book1.read()\n",
    "book2.read()\n"
   ]
  },
  {
   "cell_type": "raw",
   "id": "5b2fc152-610b-444a-9f05-1682c2ffa320",
   "metadata": {},
   "source": [
    "2) a) '__init__' is   special method that is called automatically when the instance of a class is created its purpose is to initialize the objects attributes which are assigned and it does not return anything by default \n",
    "where as '__str__' is a special method used to define a human readable string representation of an object which is useful for siplaying the objects information in a more undertsandable format."
   ]
  },
  {
   "cell_type": "code",
   "execution_count": 3,
   "id": "b598f0f1-6541-4749-bf35-c07f1bb4569e",
   "metadata": {},
   "outputs": [
    {
     "name": "stdout",
     "output_type": "stream",
     "text": [
      "hzy is 22 years old\n"
     ]
    }
   ],
   "source": [
    "# b)\n",
    "class Person:\n",
    "    def __init__(self, name, age):\n",
    "        self.name = name \n",
    "        self.age = age\n",
    "\n",
    "    def __str__(self): # used to display in a readable format\n",
    "        return f'{self.name} is {self.age} years old'\n",
    "\n",
    "person1 = Person('hzy',22)\n",
    "\n",
    "print(person1)"
   ]
  },
  {
   "cell_type": "code",
   "execution_count": null,
   "id": "f8b16817-eec8-476e-a062-1f04bf21356a",
   "metadata": {},
   "outputs": [],
   "source": []
  }
 ],
 "metadata": {
  "kernelspec": {
   "display_name": "Python 3 (ipykernel)",
   "language": "python",
   "name": "python3"
  },
  "language_info": {
   "codemirror_mode": {
    "name": "ipython",
    "version": 3
   },
   "file_extension": ".py",
   "mimetype": "text/x-python",
   "name": "python",
   "nbconvert_exporter": "python",
   "pygments_lexer": "ipython3",
   "version": "3.11.7"
  }
 },
 "nbformat": 4,
 "nbformat_minor": 5
}
