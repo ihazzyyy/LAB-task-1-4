{
 "cells": [
  {
   "cell_type": "code",
   "execution_count": 7,
   "id": "b01b029d-f2ac-42e1-b526-26acf13360c7",
   "metadata": {},
   "outputs": [
    {
     "name": "stdout",
     "output_type": "stream",
     "text": [
      "Title: [rich], Author: [dad], Publication Year: [1990]\n"
     ]
    }
   ],
   "source": [
    "class Book:\n",
    "    def __init__(self, title, author, publication_year):\n",
    "        self.title = str(title)\n",
    "        self.author = str(author)\n",
    "        self.publication_year = int(publication_year)\n",
    "\n",
    "    def __str__(self):\n",
    "        return f'Title: [{self.title}], Author: [{self.author}], Publication Year: [{self.publication_year}]'\n",
    "\n",
    "book1 = Book('rich','dad', 1990)\n",
    "print(book1)\n",
    "        \n",
    "        "
   ]
  },
  {
   "cell_type": "code",
   "execution_count": null,
   "id": "3a877820-1cc6-4465-910e-9db86a1dfdcb",
   "metadata": {},
   "outputs": [],
   "source": []
  },
  {
   "cell_type": "code",
   "execution_count": null,
   "id": "fe9bf362-1f9a-432f-9b9b-d5bddb102bbc",
   "metadata": {},
   "outputs": [],
   "source": []
  }
 ],
 "metadata": {
  "kernelspec": {
   "display_name": "Python 3 (ipykernel)",
   "language": "python",
   "name": "python3"
  },
  "language_info": {
   "codemirror_mode": {
    "name": "ipython",
    "version": 3
   },
   "file_extension": ".py",
   "mimetype": "text/x-python",
   "name": "python",
   "nbconvert_exporter": "python",
   "pygments_lexer": "ipython3",
   "version": "3.11.7"
  }
 },
 "nbformat": 4,
 "nbformat_minor": 5
}
